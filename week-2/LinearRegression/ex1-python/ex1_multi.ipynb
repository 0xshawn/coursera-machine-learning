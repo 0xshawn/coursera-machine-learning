{
 "cells": [
  {
   "cell_type": "code",
   "execution_count": 2,
   "metadata": {},
   "outputs": [],
   "source": [
    "import matplotlib.pyplot as plt\n",
    "import numpy as np\n",
    "\n",
    "#%config InlineBackend.figure_formats = {'pdf',}\n",
    "%matplotlib inline  \n",
    "\n",
    "def warm_up_exercise():\n",
    "    print('warm_up_exercise')\n",
    "    return np.eye(5)\n",
    "\n",
    "\n",
    "def compute_cost(X, y, theta):\n",
    "    m = y.size\n",
    "    J = np.sum(np.square(X.dot(theta) - y)) / (2 * m)\n",
    "\n",
    "    return J\n",
    "\n",
    "\n",
    "def gradient_descent(X, y, theta, alpha, iterations):\n",
    "    m = y.size\n",
    "    J_history = np.zeros(iterations)\n",
    "\n",
    "    for i in range(iterations):\n",
    "        h = X.dot(theta)\n",
    "        theta = theta - alpha * (1 / m) * (X.T.dot(h - y))\n",
    "\n",
    "        J_history[i] = compute_cost(X, y, theta)\n",
    "\n",
    "    return (theta, J_history)"
   ]
  },
  {
   "cell_type": "code",
   "execution_count": 4,
   "metadata": {},
   "outputs": [
    {
     "data": {
      "image/png": "[encoded data removed]",
      "text/plain": [
       "<matplotlib.figure.Figure at 0x10e8e1f98>"
      ]
     },
     "metadata": {},
     "output_type": "display_data"
    }
   ],
   "source": [
    "data = np.array(np.loadtxt(\"ex1data2.txt\", dtype='float64', delimiter=','))\n",
    "\n",
    "print(data)\n",
    "\n",
    "x = data[:, :1]\n",
    "y = data[:, 1:2]\n",
    "\n",
    "ones = np.transpose([np.ones(x.shape[0])])\n",
    "X = np.hstack((ones, x))\n",
    "\n",
    "plt.scatter(X[:, 1], y, s=30, c='r', marker='x', linewidths=1)\n",
    "plt.xlim(4, 24)\n",
    "plt.xlabel('Population of City in 10,000s')\n",
    "plt.ylabel('Profit in $10,000s');"
   ]
  }
 ],
 "metadata": {
  "kernelspec": {
   "display_name": "Python 3",
   "language": "python",
   "name": "python3"
  },
  "language_info": {
   "codemirror_mode": {
    "name": "ipython",
    "version": 3
   },
   "file_extension": ".py",
   "mimetype": "text/x-python",
   "name": "python",
   "nbconvert_exporter": "python",
   "pygments_lexer": "ipython3",
   "version": "3.6.1"
  }
 },
 "nbformat": 4,
 "nbformat_minor": 2
}
