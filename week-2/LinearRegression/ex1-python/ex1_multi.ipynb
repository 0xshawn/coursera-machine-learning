{
 "cells": [
  {
   "cell_type": "markdown",
   "metadata": {},
   "source": [
    "## Multi Variable Linear Regression"
   ]
  },
  {
   "cell_type": "markdown",
   "metadata": {
    "collapsed": true
   },
   "source": [
    "### 0. Common Libs"
   ]
  },
  {
   "cell_type": "code",
   "execution_count": 1,
   "metadata": {
    "collapsed": true
   },
   "outputs": [],
   "source": [
    "import matplotlib.pyplot as plt\n",
    "import numpy as np\n",
    "\n",
    "% matplotlib inline\n",
    "\n",
    "\n",
    "def warm_up_exercise():\n",
    "    print('warm_up_exercise')\n",
    "    return np.eye(5)\n",
    "\n",
    "\n",
    "def compute_cost(X, y, theta):\n",
    "    m = y.size\n",
    "    J = (np.sum(np.square(X.dot(theta) - y))) / (2 * m)\n",
    "\n",
    "    return J\n",
    "\n",
    "\n",
    "def gradient_descent(X, y, theta, alpha, iterations):\n",
    "    m = y.size\n",
    "    J_history = np.zeros(iterations)\n",
    "\n",
    "    for i in range(iterations):\n",
    "        h = X.dot(theta)\n",
    "        theta = theta - alpha * (1 / m) * (X.T.dot(h - y))\n",
    "        J_history[i] = compute_cost(X, y, theta)\n",
    "\n",
    "    return (theta, J_history)\n",
    "\n",
    "\n",
    "def feature_normalize(x):\n",
    "    mean = np.mean(x, axis=0)\n",
    "    std = np.std(x, axis=0)\n",
    "    x_norm = np.divide((x - mean), std)\n",
    "    \n",
    "    return (x_norm, mean, std)\n",
    "\n",
    "\n",
    "def plot_convergence(jvec):\n",
    "    plt.figure(figsize=(10, 6))\n",
    "    plt.plot(range(len(jvec)), jvec, 'bo')\n",
    "    plt.grid(True)\n",
    "    plt.title(\"Convergence of Cost Function\")\n",
    "    plt.xlabel(\"Iteration number\")\n",
    "    plt.ylabel(\"Cost function\")\n",
    "    dummy = plt.xlim([-0.05 * iterations, 1.05 * iterations])\n",
    "\n",
    "\n",
    "def norm_equation(X, y):\n",
    "    # octave equation: \n",
    "    # theta = pinv(X'*X)*X'*y;\n",
    "    return np.dot(np.dot(np.linalg.inv(np.dot(X.T, X)), X.T), y)\n",
    "\n",
    "\n",
    "def h(theta, X):\n",
    "    return np.sum(np.dot(X, theta))\n"
   ]
  },
  {
   "cell_type": "markdown",
   "metadata": {},
   "source": [
    "### 1. Load data"
   ]
  },
  {
   "cell_type": "code",
   "execution_count": 2,
   "metadata": {
    "collapsed": true
   },
   "outputs": [],
   "source": [
    "origin_data = np.array(np.loadtxt(\"ex1data2.txt\", dtype='float64', delimiter=','))"
   ]
  },
  {
   "cell_type": "markdown",
   "metadata": {},
   "source": [
    "### 2. Feature Normalize"
   ]
  },
  {
   "cell_type": "code",
   "execution_count": 3,
   "metadata": {},
   "outputs": [],
   "source": [
    "# Feature normalize\n",
    "data_norm, mean, std = feature_normalize(origin_data)\n",
    "\n",
    "x = data_norm[:, :-1]\n",
    "y = data_norm[:, -1:]\n",
    "\n",
    "ones = np.transpose([np.ones(x.shape[0])])\n",
    "X = np.hstack((ones, x))\n"
   ]
  },
  {
   "cell_type": "code",
   "execution_count": 4,
   "metadata": {},
   "outputs": [
    {
     "data": {
      "image/png": "[encoded data removed]",
      "text/plain": [
       "<matplotlib.figure.Figure at 0x10a0aabe0>"
      ]
     },
     "metadata": {},
     "output_type": "display_data"
    }
   ],
   "source": [
    "plt.grid(True)\n",
    "plt.xlim([-100, 5000])\n",
    "dummy = plt.hist(origin_data[:, 0], label='col1')\n",
    "dummy = plt.hist(origin_data[:, 1], label='col2')\n",
    "dummy = plt.hist(origin_data[:, 2], label='col3')\n",
    "plt.title('Clearly we need feature normalization.')\n",
    "plt.xlabel('Column Value')\n",
    "plt.ylabel('Counts')\n",
    "dummy = plt.legend()\n"
   ]
  },
  {
   "cell_type": "code",
   "execution_count": 5,
   "metadata": {},
   "outputs": [
    {
     "data": {
      "image/png": "[encoded data removed]",
      "text/plain": [
       "<matplotlib.figure.Figure at 0x10a0aa2b0>"
      ]
     },
     "metadata": {},
     "output_type": "display_data"
    }
   ],
   "source": [
    "plt.grid(True)\n",
    "plt.xlim([-5, 5])\n",
    "dummy = plt.hist(data_norm[:, 0], label='col1')\n",
    "dummy = plt.hist(data_norm[:, 1], label='col2')\n",
    "dummy = plt.hist(data_norm[:, 2], label='col3')\n",
    "plt.title('Feature Normalization Accomplished')\n",
    "plt.xlabel('Column Value')\n",
    "plt.ylabel('Counts')\n",
    "dummy = plt.legend()\n"
   ]
  },
  {
   "cell_type": "markdown",
   "metadata": {},
   "source": [
    "### 3. Gradient Descent"
   ]
  },
  {
   "cell_type": "code",
   "execution_count": 6,
   "metadata": {},
   "outputs": [
    {
     "name": "stdout",
     "output_type": "stream",
     "text": [
      "Price predict:  180371551.203 Expect: $293081.46\n"
     ]
    }
   ],
   "source": [
    "theta = np.random.randn(3).reshape((3,1))\n",
    "\n",
    "\n",
    "iterations = 1400\n",
    "alpha = 0.01\n",
    "\n",
    "theta, J_history = gradient_descent(X, y, theta, alpha, iterations)\n",
    "price = h(theta, [1, 1650, 3])\n",
    "print('Price predict: ', price * std[-1] + mean[-1], 'Expect: $293081.46')\n"
   ]
  },
  {
   "cell_type": "code",
   "execution_count": 7,
   "metadata": {},
   "outputs": [
    {
     "data": {
      "image/png": "[encoded data removed]",
      "text/plain": [
       "<matplotlib.figure.Figure at 0x1137f0e48>"
      ]
     },
     "metadata": {},
     "output_type": "display_data"
    }
   ],
   "source": [
    "plot_convergence(J_history)"
   ]
  },
  {
   "cell_type": "markdown",
   "metadata": {},
   "source": [
    "### 4. Normal Equation"
   ]
  },
  {
   "cell_type": "code",
   "execution_count": 8,
   "metadata": {},
   "outputs": [
    {
     "name": "stdout",
     "output_type": "stream",
     "text": [
      "Price predict:  293081.464335 Expect: $293081.46\n"
     ]
    }
   ],
   "source": [
    "x = origin_data[:, :-1]\n",
    "y = origin_data[:, -1:]\n",
    "\n",
    "ones = np.transpose([np.ones(x.shape[0])])\n",
    "X = np.hstack((ones, x))\n",
    "\n",
    "theta = norm_equation(X, y)\n",
    "print('Price predict: ', h(theta, [1, 1650, 3]), 'Expect: $293081.46')\n"
   ]
  }
 ],
 "metadata": {
  "kernelspec": {
   "display_name": "Python 3",
   "language": "python",
   "name": "python3"
  },
  "language_info": {
   "codemirror_mode": {
    "name": "ipython",
    "version": 3
   },
   "file_extension": ".py",
   "mimetype": "text/x-python",
   "name": "python",
   "nbconvert_exporter": "python",
   "pygments_lexer": "ipython3",
   "version": "3.6.1"
  }
 },
 "nbformat": 4,
 "nbformat_minor": 2
}
